{
 "cells": [
  {
   "cell_type": "markdown",
   "metadata": {
    "toc": true
   },
   "source": [
    "<h1>Table of Contents<span class=\"tocSkip\"></span></h1>\n",
    "<div class=\"toc\"><ul class=\"toc-item\"></ul></div>"
   ]
  },
  {
   "cell_type": "markdown",
   "metadata": {},
   "source": [
    "## 1. HILL DESCENT AND HILL ASCENT"
   ]
  },
  {
   "cell_type": "code",
   "execution_count": 3,
   "metadata": {
    "ExecuteTime": {
     "end_time": "2021-02-28T10:18:36.047520Z",
     "start_time": "2021-02-28T10:18:36.038545Z"
    }
   },
   "outputs": [
    {
     "data": {
      "text/latex": [
       "$\\displaystyle x^{2} + 50$"
      ],
      "text/plain": [
       "x**2 + 50"
      ]
     },
     "execution_count": 3,
     "metadata": {},
     "output_type": "execute_result"
    }
   ],
   "source": [
    "## Hill Descent and Hill ascent\n",
    "import sympy as sp\n",
    "\n",
    "x = sp.Symbol('x')\n",
    "f = (x**2)+ 50\n",
    "df = f.diff(x)\n",
    "f"
   ]
  },
  {
   "cell_type": "code",
   "execution_count": 4,
   "metadata": {
    "ExecuteTime": {
     "end_time": "2021-02-28T10:18:36.596027Z",
     "start_time": "2021-02-28T10:18:36.584062Z"
    }
   },
   "outputs": [],
   "source": [
    "f = sp.lambdify(x, f)\n",
    "df = sp.lambdify(x, df)"
   ]
  },
  {
   "cell_type": "code",
   "execution_count": 5,
   "metadata": {
    "ExecuteTime": {
     "end_time": "2021-02-28T10:18:37.224399Z",
     "start_time": "2021-02-28T10:18:37.213429Z"
    }
   },
   "outputs": [
    {
     "name": "stdout",
     "output_type": "stream",
     "text": [
      "Minima is -0.0049167872293064485\n"
     ]
    }
   ],
   "source": [
    "x1 = np.linspace(-50,50)\n",
    "\n",
    "dervi_f = df(x1[10])\n",
    "x_initial = x1[10]\n",
    "eta = 0.01\n",
    "alpha = 0.1\n",
    "\n",
    "while abs(dervi_f) > eta:\n",
    "    x_initial = x_initial - (alpha * dervi_f)\n",
    "    dervi_f = df(x_initial)\n",
    "print(\"Minima is\",x_initial)"
   ]
  },
  {
   "cell_type": "code",
   "execution_count": 6,
   "metadata": {
    "ExecuteTime": {
     "end_time": "2021-02-28T10:20:05.005074Z",
     "start_time": "2021-02-28T10:20:04.991112Z"
    }
   },
   "outputs": [
    {
     "name": "stdout",
     "output_type": "stream",
     "text": [
      "MAxima is -0.0049167872293064485\n"
     ]
    }
   ],
   "source": [
    "x = sp.Symbol('x')\n",
    "f = -((x**2)+ 50)\n",
    "df = f.diff(x)\n",
    "\n",
    "f = sp.lambdify(x, f)\n",
    "df = sp.lambdify(x, df)\n",
    "\n",
    "x1 = np.linspace(-50,50)\n",
    "\n",
    "dervi_f = df(x1[10])\n",
    "x_initial = x1[10]\n",
    "eta = 0.01\n",
    "alpha = 0.1\n",
    "\n",
    "while abs(dervi_f) > eta:\n",
    "    x_initial = x_initial + (alpha * dervi_f)\n",
    "    dervi_f = df(x_initial)\n",
    "print(\"MAxima is\",x_initial)"
   ]
  },
  {
   "cell_type": "markdown",
   "metadata": {},
   "source": [
    "## 2.FIND COEFFICIENTS OF OLS REGRESSION USING FORMULAE AND VERIFY USING ANY PACKAGE : CARS DATA : X=log(Weight),y=MPG"
   ]
  },
  {
   "cell_type": "code",
   "execution_count": 7,
   "metadata": {
    "ExecuteTime": {
     "end_time": "2021-02-28T08:18:45.568022Z",
     "start_time": "2021-02-28T08:18:45.555054Z"
    }
   },
   "outputs": [],
   "source": [
    "## 2. Linear Regression\n",
    "import numpy as np\n",
    "import matplotlib.pyplot as plt\n",
    "import pandas as pd\n",
    "\n",
    "def SimpleLinearequ(x,y):\n",
    "    b0 = 0\n",
    "    b1 = 0\n",
    "    n = len(x) \n",
    "    b0 = (np.sum(x**2)*np.sum(y) - (np.sum(x)*(np.sum(x*y)))) / ((n * np.sum(x**2)) - (np.sum(x))**2)\n",
    "    \n",
    "    b1 = ((n*np.sum(x*y) - (np.sum(x)*np.sum(y)))/((n * np.sum(x**2)) - (np.sum(x))**2) )\n",
    "    \n",
    "    return b0, b1\n"
   ]
  },
  {
   "cell_type": "code",
   "execution_count": 16,
   "metadata": {
    "ExecuteTime": {
     "end_time": "2021-02-28T08:18:46.022976Z",
     "start_time": "2021-02-28T08:18:45.989065Z"
    }
   },
   "outputs": [
    {
     "data": {
      "text/html": [
       "<div>\n",
       "<style scoped>\n",
       "    .dataframe tbody tr th:only-of-type {\n",
       "        vertical-align: middle;\n",
       "    }\n",
       "\n",
       "    .dataframe tbody tr th {\n",
       "        vertical-align: top;\n",
       "    }\n",
       "\n",
       "    .dataframe thead th {\n",
       "        text-align: right;\n",
       "    }\n",
       "</style>\n",
       "<table border=\"1\" class=\"dataframe\">\n",
       "  <thead>\n",
       "    <tr style=\"text-align: right;\">\n",
       "      <th></th>\n",
       "      <th>Car</th>\n",
       "      <th>MPG</th>\n",
       "      <th>Cylinders</th>\n",
       "      <th>Displacement</th>\n",
       "      <th>Horsepower</th>\n",
       "      <th>Weight</th>\n",
       "      <th>Acceleration</th>\n",
       "      <th>Model</th>\n",
       "      <th>Origin</th>\n",
       "    </tr>\n",
       "  </thead>\n",
       "  <tbody>\n",
       "    <tr>\n",
       "      <th>0</th>\n",
       "      <td>Chevrolet Chevelle Malibu</td>\n",
       "      <td>18.0</td>\n",
       "      <td>8</td>\n",
       "      <td>307.0</td>\n",
       "      <td>130</td>\n",
       "      <td>3504</td>\n",
       "      <td>12.0</td>\n",
       "      <td>70</td>\n",
       "      <td>US</td>\n",
       "    </tr>\n",
       "    <tr>\n",
       "      <th>1</th>\n",
       "      <td>Buick Skylark 320</td>\n",
       "      <td>15.0</td>\n",
       "      <td>8</td>\n",
       "      <td>350.0</td>\n",
       "      <td>165</td>\n",
       "      <td>3693</td>\n",
       "      <td>11.5</td>\n",
       "      <td>70</td>\n",
       "      <td>US</td>\n",
       "    </tr>\n",
       "    <tr>\n",
       "      <th>2</th>\n",
       "      <td>Plymouth Satellite</td>\n",
       "      <td>18.0</td>\n",
       "      <td>8</td>\n",
       "      <td>318.0</td>\n",
       "      <td>150</td>\n",
       "      <td>3436</td>\n",
       "      <td>11.0</td>\n",
       "      <td>70</td>\n",
       "      <td>US</td>\n",
       "    </tr>\n",
       "    <tr>\n",
       "      <th>3</th>\n",
       "      <td>AMC Rebel SST</td>\n",
       "      <td>16.0</td>\n",
       "      <td>8</td>\n",
       "      <td>304.0</td>\n",
       "      <td>150</td>\n",
       "      <td>3433</td>\n",
       "      <td>12.0</td>\n",
       "      <td>70</td>\n",
       "      <td>US</td>\n",
       "    </tr>\n",
       "    <tr>\n",
       "      <th>4</th>\n",
       "      <td>Ford Torino</td>\n",
       "      <td>17.0</td>\n",
       "      <td>8</td>\n",
       "      <td>302.0</td>\n",
       "      <td>140</td>\n",
       "      <td>3449</td>\n",
       "      <td>10.5</td>\n",
       "      <td>70</td>\n",
       "      <td>US</td>\n",
       "    </tr>\n",
       "  </tbody>\n",
       "</table>\n",
       "</div>"
      ],
      "text/plain": [
       "                         Car   MPG  Cylinders  Displacement  Horsepower  \\\n",
       "0  Chevrolet Chevelle Malibu  18.0          8         307.0         130   \n",
       "1          Buick Skylark 320  15.0          8         350.0         165   \n",
       "2         Plymouth Satellite  18.0          8         318.0         150   \n",
       "3              AMC Rebel SST  16.0          8         304.0         150   \n",
       "4                Ford Torino  17.0          8         302.0         140   \n",
       "\n",
       "   Weight  Acceleration  Model Origin  \n",
       "0    3504          12.0     70     US  \n",
       "1    3693          11.5     70     US  \n",
       "2    3436          11.0     70     US  \n",
       "3    3433          12.0     70     US  \n",
       "4    3449          10.5     70     US  "
      ]
     },
     "execution_count": 16,
     "metadata": {},
     "output_type": "execute_result"
    }
   ],
   "source": [
    "cars = pd.read_csv(\"cars.csv\")\n",
    "cars.head()"
   ]
  },
  {
   "cell_type": "code",
   "execution_count": 19,
   "metadata": {
    "ExecuteTime": {
     "end_time": "2021-02-28T08:19:17.973034Z",
     "start_time": "2021-02-28T08:19:17.772572Z"
    }
   },
   "outputs": [
    {
     "data": {
      "text/plain": [
       "Text(0.5, 1.0, 'Simple Linear Regression')"
      ]
     },
     "execution_count": 19,
     "metadata": {},
     "output_type": "execute_result"
    },
    {
     "data": {
      "image/png": "[encoded data removed]",
      "text/plain": [
       "<Figure size 576x504 with 1 Axes>"
      ]
     },
     "metadata": {},
     "output_type": "display_data"
    }
   ],
   "source": [
    "x = np.log(cars[\"Weight\"])\n",
    "y = cars[\"MPG\"]\n",
    "#fitting the model\n",
    "b0,b1= SimpleLinearequ(x,y)\n",
    "\n",
    "#prediction\n",
    "y_hat = b0 + b1*x\n",
    "\n",
    "#plotting\n",
    "plt.scatter(x, y, color=\"Blue\")\n",
    "plt.plot(x, y_hat, color= \"Red\")\n",
    "plt.xlabel(\"X\")\n",
    "plt.ylabel(\"Y\")\n",
    "plt.title(\"Simple Linear Regression\")"
   ]
  },
  {
   "cell_type": "markdown",
   "metadata": {},
   "source": [
    "## 3.CALCULATE EUCLIDEAN DISTANCE IN VECTORIZED FORM "
   ]
  },
  {
   "cell_type": "code",
   "execution_count": 38,
   "metadata": {
    "ExecuteTime": {
     "end_time": "2021-02-28T10:31:24.114078Z",
     "start_time": "2021-02-28T10:31:24.106099Z"
    }
   },
   "outputs": [
    {
     "data": {
      "text/plain": [
       "4.123105625617661"
      ]
     },
     "execution_count": 38,
     "metadata": {},
     "output_type": "execute_result"
    }
   ],
   "source": [
    "## euclidean distance\n",
    "\n",
    "x = np.array([1,2,3,4,5])\n",
    "y = np.array([1,2,3,5,9])\n",
    "\n",
    "diff = x-y\n",
    "euc = np.sqrt(np.matmul(np.transpose(diff),diff))\n",
    "euc"
   ]
  },
  {
   "cell_type": "markdown",
   "metadata": {},
   "source": [
    "## 4. CALCULATE COEFFICIENTS OF LR USING THE FORMULA"
   ]
  },
  {
   "cell_type": "code",
   "execution_count": 52,
   "metadata": {
    "ExecuteTime": {
     "end_time": "2021-02-28T11:17:52.334040Z",
     "start_time": "2021-02-28T11:17:52.312097Z"
    }
   },
   "outputs": [
    {
     "data": {
      "text/plain": [
       "matrix([[ 4.37593802e+01],\n",
       "        [-3.82192157e-02],\n",
       "        [-6.13436732e-03],\n",
       "        [ 9.82936468e-02]])"
      ]
     },
     "execution_count": 52,
     "metadata": {},
     "output_type": "execute_result"
    }
   ],
   "source": [
    "# Closed form\n",
    "import statsmodels.api as sm\n",
    "\n",
    "cars = pd.read_csv(\"cars.csv\")\n",
    "cars.head()\n",
    "x = cars.iloc[:,[4,5,6]]\n",
    "y = cars.iloc[:,[1]]\n",
    "H = sm.add_constant(x)\n",
    "\n",
    "#covert to matrix\n",
    "H = np.matrix(H)\n",
    "y = np.matrix(y)\n",
    "\n",
    "#1st matrix Ht * H\n",
    "HtH = np.matmul(np.transpose(H),H)\n",
    "\n",
    "#2nd matrix inverse of Ht * H\n",
    "I_HtH = np.linalg.inv(HtH)\n",
    "\n",
    "#3rd matrix, multiply it with Ht\n",
    "I_HtH_Ht = np.matmul(I_HtH,np.transpose(H))\n",
    "\n",
    "#b\n",
    "b = np.matmul(I_HtH_Ht,y)\n",
    "b"
   ]
  },
  {
   "cell_type": "code",
   "execution_count": null,
   "metadata": {},
   "outputs": [],
   "source": []
  }
 ],
 "metadata": {
  "kernelspec": {
   "display_name": "Python 3",
   "language": "python",
   "name": "python3"
  },
  "language_info": {
   "codemirror_mode": {
    "name": "ipython",
    "version": 3
   },
   "file_extension": ".py",
   "mimetype": "text/x-python",
   "name": "python",
   "nbconvert_exporter": "python",
   "pygments_lexer": "ipython3",
   "version": "3.8.3"
  },
  "toc": {
   "base_numbering": 1,
   "nav_menu": {},
   "number_sections": true,
   "sideBar": true,
   "skip_h1_title": true,
   "title_cell": "Table of Contents",
   "title_sidebar": "Contents",
   "toc_cell": true,
   "toc_position": {},
   "toc_section_display": true,
   "toc_window_display": true
  }
 },
 "nbformat": 4,
 "nbformat_minor": 4
}
